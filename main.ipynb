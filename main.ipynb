{
  "cells": [
    {
      "cell_type": "markdown",
      "metadata": {},
      "source": [
        "# Increase Predictions by 50% with Smart Prompting\n",
        "\n",
        "![Author](https://img.shields.io/badge/Author-Nhi%20Yen-brightgreen)\n",
        "[![Medium](https://img.shields.io/badge/Medium-Follow%20Me-blue)](https://medium.com/@yennhi95zz/subscribe)\n",
        "[![GitHub](https://img.shields.io/badge/GitHub-Follow%20Me-lightgrey)](https://github.com/yennhi95zz)\n",
        "[![Kaggle](https://img.shields.io/badge/Kaggle-Follow%20Me-orange)](https://www.kaggle.com/nhiyen/code)\n",
        "[![LinkedIn](https://img.shields.io/badge/LinkedIn-Connect%20with%20Me-informational)](https://www.linkedin.com/in/yennhi95zz/)\n",
        "[![Upwork](https://img.shields.io/badge/Upwork-Hire%20Me-brightgreen)](https://www.upwork.com/freelancers/~018cb35a4fd005fbff)\n",
        "\n",
        "This notebook is associated with the articles/ project below:\n",
        "\n",
        "- Find the full code on this [GitHub repository](https://github.com/yennhi95zz/llm-prompt-engineering).\n",
        "- Explore a detailed explanation in my [Medium article](https://medium.com/@yennhi95zz/increase-predictions-by-50-with-smart-prompting-981385fb10af).\n",
        "\n",
        "👉Get UNLIMITED access to every story on Medium with just $1/week ▶ [HERE](https://medium.com/@yennhi95zz/membership)\n",
        "\n",
        "👉Troubling with LLM? Hire me in [Upwork](https://medium.com/r/?url=https%3A%2F%2Fwww.upwork.com%2Ffreelancers%2F~018cb35a4fd005fbff)."
      ]
    },
    {
      "cell_type": "code",
      "execution_count": 3,
      "metadata": {
        "id": "26748Ml5W6Ii"
      },
      "outputs": [],
      "source": [
        "import os\n",
        "from data import messages\n",
        "from dotenv import load_dotenv, find_dotenv\n",
        "_ = load_dotenv(find_dotenv()) # read local .env file\n",
        "from langchain_core.prompts import PromptTemplate\n",
        "from langchain_openai import OpenAI"
      ]
    },
    {
      "cell_type": "code",
      "execution_count": 4,
      "metadata": {
        "id": "k4mLVBPGW6K-"
      },
      "outputs": [],
      "source": [
        "MY_OPENAI_KEY = os.getenv(\"MY_OPENAI_KEY\")"
      ]
    },
    {
      "cell_type": "markdown",
      "metadata": {},
      "source": [
        "# Define the Initial Prompt"
      ]
    },
    {
      "cell_type": "code",
      "execution_count": 5,
      "metadata": {
        "id": "21dWB7vGXKLp"
      },
      "outputs": [],
      "source": [
        "template = \"\"\"Is the sentence in the backticks below about anger? Answer only \"yes\" or \"no\".\n",
        "            ```{sentence}```\n",
        "        \"\"\"\n",
        "\n",
        "prompt = PromptTemplate.from_template(template)"
      ]
    },
    {
      "cell_type": "code",
      "execution_count": 6,
      "metadata": {
        "id": "y5SzzxCgXKOE"
      },
      "outputs": [],
      "source": [
        "llm = OpenAI(openai_api_key=MY_OPENAI_KEY,\n",
        "             model=\"gpt-3.5-turbo-instruct\",\n",
        "             temperature=0)\n",
        "llm_chain = prompt | llm"
      ]
    },
    {
      "cell_type": "markdown",
      "metadata": {},
      "source": [
        "# Define the predict() function"
      ]
    },
    {
      "cell_type": "code",
      "execution_count": 7,
      "metadata": {
        "id": "0nITAgkAW6QO"
      },
      "outputs": [],
      "source": [
        "def predict(prompt):\n",
        "    # Initialize lists to store true labels, predicted labels, and responses\n",
        "    y_true = []\n",
        "    y_pred = []\n",
        "    responses = []\n",
        "\n",
        "    # Iterate over each message in the messages dataset\n",
        "    for message in messages:\n",
        "        # Get the response from the model using the provided llm_chain\n",
        "        response = llm_chain.invoke(prompt.format(sentence=message['text']))\n",
        "\n",
        "        # Append the true label and the predicted label to their respective lists\n",
        "        y_true.append(message['label'])\n",
        "        y_pred.append(1 if 'yes' in response.lower() else 0)\n",
        "\n",
        "        # Append the response to the responses list\n",
        "        responses.append(response)\n",
        "\n",
        "    # Initialize a 2x2 confusion matrix\n",
        "    cm = [[0, 0], [0, 0]]\n",
        "\n",
        "    # Populate the confusion matrix based on true and predicted labels\n",
        "    for true_label, pred_label in zip(y_true, y_pred):\n",
        "        cm[true_label][pred_label] += 1\n",
        "\n",
        "    # Print the confusion matrix with descriptive message\n",
        "    print(\"Confusion Matrix:\")\n",
        "    print(\"[[True Negative, False Positive], [False Negative, True Positive]]\")\n",
        "    for row in cm:\n",
        "        print(row)\n",
        "\n",
        "    # Calculate precision, recall, F-score, and accuracy\n",
        "    precision = cm[1][1] / (cm[1][1] + cm[0][1]) if (cm[1][1] + cm[0][1]) != 0 else 0\n",
        "    recall = cm[1][1] / (cm[1][1] + cm[1][0]) if (cm[1][1] + cm[1][0]) != 0 else 0\n",
        "    f_score = 2 * (precision * recall) / (precision + recall) if (precision + recall) != 0 else 0\n",
        "    accuracy = (cm[0][0] + cm[1][1]) / sum(map(sum, cm)) if sum(map(sum, cm)) != 0 else 0\n",
        "\n",
        "    # Print evaluation metrics with descriptive messages\n",
        "    print(f\"\\nPrecision: {precision:.2f}\")\n",
        "    print(f\"Recall: {recall:.2f}\")\n",
        "    print(f\"F-score: {f_score:.2f}\")\n",
        "    print(f\"Accuracy: {accuracy:.2f}\")\n",
        "\n",
        "    # Compile results into a dictionary\n",
        "    result = { 'f_score': f_score, 'accuracy': accuracy, 'truth': y_true, 'predicted': y_pred, 'responses': responses }\n",
        "\n",
        "    # Print a summary of misclassified messages with descriptive messages\n",
        "    print(\"\\nSummary of Misclassified Messages:\")\n",
        "    for i in range(len(messages)):\n",
        "        if result['predicted'][i] != result['truth'][i]:\n",
        "            print(f\"Message: {messages[i]['text']}\\nTruth: {result['truth'][i]}, Predicted: {result['predicted'][i]}, Response: {result['responses'][i]}\\n\")\n",
        "\n",
        "    # return result\n"
      ]
    },
    {
      "cell_type": "markdown",
      "metadata": {},
      "source": [
        "# Evaluate the initial prompt"
      ]
    },
    {
      "cell_type": "code",
      "execution_count": 8,
      "metadata": {},
      "outputs": [
        {
          "name": "stdout",
          "output_type": "stream",
          "text": [
            "Confusion Matrix:\n",
            "[[True Negative, False Positive], [False Negative, True Positive]]\n",
            "[34, 0]\n",
            "[17, 4]\n",
            "\n",
            "Precision: 1.00\n",
            "Recall: 0.19\n",
            "F-score: 0.32\n",
            "Accuracy: 0.69\n",
            "\n",
            "Summary of Misclassified Messages:\n",
            "Message: I hate this food.\n",
            "Truth: 1, Predicted: 0, Response: \n",
            "no\n",
            "\n",
            "Message: This movie is terrible.\n",
            "Truth: 1, Predicted: 0, Response: \n",
            "no\n",
            "\n",
            "Message: I can't believe you would do something like that!\n",
            "Truth: 1, Predicted: 0, Response: \n",
            "no\n",
            "\n",
            "Message: This is absolutely unacceptable!\n",
            "Truth: 1, Predicted: 0, Response: \n",
            "no\n",
            "\n",
            "Message: How could you be so thoughtless?\n",
            "Truth: 1, Predicted: 0, Response: \n",
            "no\n",
            "\n",
            "Message: You have no idea how much you've hurt me.\n",
            "Truth: 1, Predicted: 0, Response: \n",
            "No\n",
            "\n",
            "Message: You've really crossed the line this time.\n",
            "Truth: 1, Predicted: 0, Response: \n",
            "No\n",
            "\n",
            "Message: I won't stand for this kind of behavior.\n",
            "Truth: 1, Predicted: 0, Response: \n",
            "no\n",
            "\n",
            "Message: Tied to charger for conversations lasting more than 45 minutes.MAJOR PROBLEMS!!\n",
            "Truth: 1, Predicted: 0, Response: \n",
            "No\n",
            "\n",
            "Message: Needless to say I wasted my money.\n",
            "Truth: 1, Predicted: 0, Response: \n",
            "no\n",
            "\n",
            "Message: What a waste of money and time!.\n",
            "Truth: 1, Predicted: 0, Response: \n",
            "No\n",
            "\n",
            "Message: I advise EVERYONE DO NOT BE FOOLED!\n",
            "Truth: 1, Predicted: 0, Response: \n",
            "No\n",
            "\n",
            "Message: The commercials are the most misleading.\n",
            "Truth: 1, Predicted: 0, Response: \n",
            "No\n",
            "\n",
            "Message: I have yet to run this new battery below two bars and thats three days without charging. I bought it for my mother and she had a problem with the battery.\n",
            "Truth: 1, Predicted: 0, Response: \n",
            "no\n",
            "\n",
            "Message: This is a simple little phone to use but the breakage is unacceptible.\n",
            "Truth: 1, Predicted: 0, Response: \n",
            "no\n",
            "\n",
            "Message: It is unusable in a moving car at freeway speed.\n",
            "Truth: 1, Predicted: 0, Response: \n",
            "No\n",
            "\n",
            "Message: I have two more years left in this contract and I hate this phone.\n",
            "Truth: 1, Predicted: 0, Response: \n",
            "No\n",
            "\n"
          ]
        }
      ],
      "source": [
        "predict(prompt)"
      ]
    },
    {
      "cell_type": "markdown",
      "metadata": {},
      "source": [
        "# Improvement 1 -  Add a role"
      ]
    },
    {
      "cell_type": "code",
      "execution_count": 9,
      "metadata": {},
      "outputs": [
        {
          "name": "stdout",
          "output_type": "stream",
          "text": [
            "Confusion Matrix:\n",
            "[[True Negative, False Positive], [False Negative, True Positive]]\n",
            "[34, 0]\n",
            "[7, 14]\n",
            "\n",
            "Precision: 1.00\n",
            "Recall: 0.67\n",
            "F-score: 0.80\n",
            "Accuracy: 0.87\n",
            "\n",
            "Summary of Misclassified Messages:\n",
            "Message: I won't stand for this kind of behavior.\n",
            "Truth: 1, Predicted: 0, Response: \n",
            "No\n",
            "\n",
            "Message: Tied to charger for conversations lasting more than 45 minutes.MAJOR PROBLEMS!!\n",
            "Truth: 1, Predicted: 0, Response: \n",
            "No\n",
            "\n",
            "Message: Needless to say I wasted my money.\n",
            "Truth: 1, Predicted: 0, Response: \n",
            "No\n",
            "\n",
            "Message: The commercials are the most misleading.\n",
            "Truth: 1, Predicted: 0, Response: \n",
            "no\n",
            "\n",
            "Message: I have yet to run this new battery below two bars and thats three days without charging. I bought it for my mother and she had a problem with the battery.\n",
            "Truth: 1, Predicted: 0, Response: \n",
            "No\n",
            "\n",
            "Message: This is a simple little phone to use but the breakage is unacceptible.\n",
            "Truth: 1, Predicted: 0, Response: \n",
            "no\n",
            "\n",
            "Message: It is unusable in a moving car at freeway speed.\n",
            "Truth: 1, Predicted: 0, Response: \n",
            "No\n",
            "\n"
          ]
        }
      ],
      "source": [
        "template = \"\"\"\n",
        "            You are a sentiment bot. \n",
        "            Is the sentence in the backticks below about anger:\n",
        "            ```{sentence}```\n",
        "            Your answer is only \"yes\" or \"no\".\n",
        "        \"\"\"\n",
        "\n",
        "prompt = PromptTemplate.from_template(template)\n",
        "\n",
        "predict(prompt)"
      ]
    },
    {
      "cell_type": "markdown",
      "metadata": {},
      "source": [
        "# Improvement 2 - Define a task"
      ]
    },
    {
      "cell_type": "code",
      "execution_count": 10,
      "metadata": {},
      "outputs": [
        {
          "name": "stdout",
          "output_type": "stream",
          "text": [
            "Confusion Matrix:\n",
            "[[True Negative, False Positive], [False Negative, True Positive]]\n",
            "[34, 0]\n",
            "[8, 13]\n",
            "\n",
            "Precision: 1.00\n",
            "Recall: 0.62\n",
            "F-score: 0.76\n",
            "Accuracy: 0.85\n",
            "\n",
            "Summary of Misclassified Messages:\n",
            "Message: I won't stand for this kind of behavior.\n",
            "Truth: 1, Predicted: 0, Response: \n",
            "No\n",
            "\n",
            "Message: Tied to charger for conversations lasting more than 45 minutes.MAJOR PROBLEMS!!\n",
            "Truth: 1, Predicted: 0, Response: \n",
            "No\n",
            "\n",
            "Message: Needless to say I wasted my money.\n",
            "Truth: 1, Predicted: 0, Response: \n",
            "No\n",
            "\n",
            "Message: I advise EVERYONE DO NOT BE FOOLED!\n",
            "Truth: 1, Predicted: 0, Response: \n",
            "No\n",
            "\n",
            "Message: The commercials are the most misleading.\n",
            "Truth: 1, Predicted: 0, Response: \n",
            "No\n",
            "\n",
            "Message: I have yet to run this new battery below two bars and thats three days without charging. I bought it for my mother and she had a problem with the battery.\n",
            "Truth: 1, Predicted: 0, Response: \n",
            "No\n",
            "\n",
            "Message: This is a simple little phone to use but the breakage is unacceptible.\n",
            "Truth: 1, Predicted: 0, Response: \n",
            "No\n",
            "\n",
            "Message: It is unusable in a moving car at freeway speed.\n",
            "Truth: 1, Predicted: 0, Response: \n",
            "No\n",
            "\n"
          ]
        }
      ],
      "source": [
        "template = \"\"\"\n",
        "            You are a sentiment bot. This is a classification task.\n",
        "            Your job is to determine if the sentence in the backticks below is about anger:\n",
        "            ```{sentence}```\n",
        "            Your answer is only \"yes\" or \"no\".\n",
        "        \"\"\"\n",
        "\n",
        "prompt = PromptTemplate.from_template(template)\n",
        "\n",
        "predict(prompt)"
      ]
    },
    {
      "cell_type": "markdown",
      "metadata": {},
      "source": [
        "# Improvement 3 — Describe the context"
      ]
    },
    {
      "cell_type": "code",
      "execution_count": 11,
      "metadata": {},
      "outputs": [
        {
          "name": "stdout",
          "output_type": "stream",
          "text": [
            "Confusion Matrix:\n",
            "[[True Negative, False Positive], [False Negative, True Positive]]\n",
            "[34, 0]\n",
            "[5, 16]\n",
            "\n",
            "Precision: 1.00\n",
            "Recall: 0.76\n",
            "F-score: 0.86\n",
            "Accuracy: 0.91\n",
            "\n",
            "Summary of Misclassified Messages:\n",
            "Message: Tied to charger for conversations lasting more than 45 minutes.MAJOR PROBLEMS!!\n",
            "Truth: 1, Predicted: 0, Response: \n",
            "No\n",
            "\n",
            "Message: I advise EVERYONE DO NOT BE FOOLED!\n",
            "Truth: 1, Predicted: 0, Response: \n",
            "No\n",
            "\n",
            "Message: The commercials are the most misleading.\n",
            "Truth: 1, Predicted: 0, Response: \n",
            "No\n",
            "\n",
            "Message: I have yet to run this new battery below two bars and thats three days without charging. I bought it for my mother and she had a problem with the battery.\n",
            "Truth: 1, Predicted: 0, Response: \n",
            "No\n",
            "\n",
            "Message: It is unusable in a moving car at freeway speed.\n",
            "Truth: 1, Predicted: 0, Response: \n",
            "No\n",
            "\n"
          ]
        }
      ],
      "source": [
        "template = \"\"\"\n",
        "            You are a sentiment bot. This is a classification task.\n",
        "            Given a sentence about customer feedback.\n",
        "            Your job is to determine if the sentence in the backticks below is about anger:\n",
        "            ```{sentence}```\n",
        "            Your answer is only \"yes\" or \"no\".\n",
        "        \"\"\"\n",
        "\n",
        "prompt = PromptTemplate.from_template(template)\n",
        "\n",
        "predict(prompt)\n"
      ]
    },
    {
      "cell_type": "markdown",
      "metadata": {},
      "source": [
        "# Improvement 4 - Provide a definition"
      ]
    },
    {
      "cell_type": "code",
      "execution_count": 12,
      "metadata": {},
      "outputs": [
        {
          "name": "stdout",
          "output_type": "stream",
          "text": [
            "Confusion Matrix:\n",
            "[[True Negative, False Positive], [False Negative, True Positive]]\n",
            "[34, 0]\n",
            "[3, 18]\n",
            "\n",
            "Precision: 1.00\n",
            "Recall: 0.86\n",
            "F-score: 0.92\n",
            "Accuracy: 0.95\n",
            "\n",
            "Summary of Misclassified Messages:\n",
            "Message: Tied to charger for conversations lasting more than 45 minutes.MAJOR PROBLEMS!!\n",
            "Truth: 1, Predicted: 0, Response: \n",
            "No\n",
            "\n",
            "Message: I have yet to run this new battery below two bars and thats three days without charging. I bought it for my mother and she had a problem with the battery.\n",
            "Truth: 1, Predicted: 0, Response: \n",
            "No\n",
            "\n",
            "Message: It is unusable in a moving car at freeway speed.\n",
            "Truth: 1, Predicted: 0, Response: \n",
            "No\n",
            "\n"
          ]
        }
      ],
      "source": [
        "template = \"\"\"\n",
        "            You are a sentiment bot. This is a classification task.\n",
        "            Given a sentence about customer feedback.\n",
        "            Your job is to determine if the sentence in the backticks below is about anger:\n",
        "            ```{sentence}```\n",
        "            This is difinition of \"anger\":\n",
        "            - Anger is an intense emotional state of displeasure with someone or something.\n",
        "            - Anger is an emotion characterized by antagonism toward someone or something you feel has deliberately done you wrong.\n",
        "            - Anger is one of the basic human emotions, as elemental as happiness, sadness, anxiety, or disgust.\n",
        "            Your answer is only \"yes\" or \"no\".\n",
        "        \"\"\"\n",
        "\n",
        "prompt = PromptTemplate.from_template(template)\n",
        "\n",
        "predict(prompt)"
      ]
    },
    {
      "cell_type": "markdown",
      "metadata": {},
      "source": [
        "# Improvement 5 - Provide more guidance and examples"
      ]
    },
    {
      "cell_type": "code",
      "execution_count": 13,
      "metadata": {},
      "outputs": [
        {
          "name": "stdout",
          "output_type": "stream",
          "text": [
            "Confusion Matrix:\n",
            "[[True Negative, False Positive], [False Negative, True Positive]]\n",
            "[32, 2]\n",
            "[1, 20]\n",
            "\n",
            "Precision: 0.91\n",
            "Recall: 0.95\n",
            "F-score: 0.93\n",
            "Accuracy: 0.95\n",
            "\n",
            "Summary of Misclassified Messages:\n",
            "Message: I went on Motorolas website and followed all directions but could not get it to pair again.\n",
            "Truth: 0, Predicted: 1, Response: \n",
            "Yes\n",
            "\n",
            "Message: I have yet to run this new battery below two bars and thats three days without charging. I bought it for my mother and she had a problem with the battery.\n",
            "Truth: 1, Predicted: 0, Response: \n",
            "No\n",
            "\n",
            "Message: Doesnt hold charge.\n",
            "Truth: 0, Predicted: 1, Response: \n",
            "Yes\n",
            "\n"
          ]
        }
      ],
      "source": [
        "template = \"\"\"\n",
        "            You are a sentiment bot. This is a classification task.\n",
        "            Given a sentence about customer feedback.\n",
        "            Your job is to determine if the sentence in the backticks below is about anger:\n",
        "            ```{sentence}```\n",
        "            This is difinition of \"anger\":\n",
        "            - Anger is an intense emotional state of displeasure with someone or something.\n",
        "            - Anger is an emotion characterized by antagonism toward someone or something you feel has deliberately done you wrong.\n",
        "            - Anger is one of the basic human emotions, as elemental as happiness, sadness, anxiety, or disgust.\n",
        "            To define a sentence that expresses \"anger,\" look for features such as:\n",
        "            - Emphatic Language: Use of strong, forceful words, often with CAPITALIZATION or exclamation marks to convey intensity. Example: \"I can't believe you did that!\"; \"I am FURIOUS!\"\n",
        "            - Negative Connotations: Words that imply frustration, betrayal, or disapproval. Example: \"This is completely unacceptable.\"\n",
        "            - Directive or Accusatory Tone: Commands, accusations, or strong advice aimed at someone, indicating displeasure. Example: \"You need to stop lying!\"\n",
        "            - Emotional Intensity: Expressions that reflect high emotional arousal, often indicating a loss of patience or tolerance. Example: \"I've had enough of this nonsense!\"\n",
        "            - Context of Disappointment or Betrayal: Indicating that expectations have been unmet, leading to frustration. Example: \"I trusted you, and this is how you repay me?\"; \"You assured me this would be taken care of, but once again, I find myself dealing with the same problem!\"\n",
        "            Other sample sentences to express anger: \"I don'\\t believe it!\"; \"Is it possible?\"; \"I could really do without it.\"; \"It really gets on my nerves.\"\n",
        "            Your answer is only \"yes\" or \"no\".\n",
        "        \"\"\"\n",
        "\n",
        "prompt = PromptTemplate.from_template(template)\n",
        "\n",
        "predict(prompt)"
      ]
    },
    {
      "cell_type": "markdown",
      "metadata": {},
      "source": [
        "# Add more explanation"
      ]
    },
    {
      "cell_type": "code",
      "execution_count": 14,
      "metadata": {},
      "outputs": [
        {
          "name": "stdout",
          "output_type": "stream",
          "text": [
            "Confusion Matrix:\n",
            "[[True Negative, False Positive], [False Negative, True Positive]]\n",
            "[32, 2]\n",
            "[1, 20]\n",
            "\n",
            "Precision: 0.91\n",
            "Recall: 0.95\n",
            "F-score: 0.93\n",
            "Accuracy: 0.95\n",
            "\n",
            "Summary of Misclassified Messages:\n",
            "Message: I went on Motorolas website and followed all directions but could not get it to pair again.\n",
            "Truth: 0, Predicted: 1, Response: \n",
            "Yes\n",
            "\n",
            "Message: I have yet to run this new battery below two bars and thats three days without charging. I bought it for my mother and she had a problem with the battery.\n",
            "Truth: 1, Predicted: 0, Response: \n",
            "No\n",
            "\n",
            "Message: Doesnt hold charge.\n",
            "Truth: 0, Predicted: 1, Response: \n",
            "Yes\n",
            "\n"
          ]
        }
      ],
      "source": [
        "template = \"\"\"\n",
        "            You are a sentiment bot. This is a classification task.\n",
        "            Given a sentence about customer feedback.\n",
        "            Your job is to determine if the sentence in the backticks below is about anger:\n",
        "            ```{sentence}```\n",
        "            This is difinition of \"anger\":\n",
        "            - Anger is an intense emotional state of displeasure with someone or something.\n",
        "            - Anger is an emotion characterized by antagonism toward someone or something you feel has deliberately done you wrong.\n",
        "            - Anger is one of the basic human emotions, as elemental as happiness, sadness, anxiety, or disgust.\n",
        "            To define a sentence that expresses \"anger,\" look for features such as:\n",
        "            - Emphatic Language: Use of strong, forceful words, often with CAPITALIZATION or exclamation marks to convey intensity. Example: \"I can't believe you did that!\"; \"I am FURIOUS!\"\n",
        "            - Negative Connotations: Words that imply frustration, betrayal, or disapproval. Example: \"This is completely unacceptable.\"\n",
        "            - Directive or Accusatory Tone: Commands, accusations, or strong advice aimed at someone, indicating displeasure. Example: \"You need to stop lying!\"\n",
        "            - Emotional Intensity: Expressions that reflect high emotional arousal, often indicating a loss of patience or tolerance. Example: \"I've had enough of this nonsense!\"\n",
        "            - Context of Disappointment or Betrayal: Indicating that expectations have been unmet, leading to frustration. Example: \"I trusted you, and this is how you repay me?\"; \"You assured me this would be taken care of, but once again, I find myself dealing with the same problem!\"\n",
        "            There are 3 types of Anger:\n",
        "            - Aggressive Anger: \"Shut Up!\"; \"Get Lost\"; \"You'll be sorry\"\n",
        "            - Passive: \"I\\'m sorry to have to tell you this…\"; \"Please don\\'t get angry or upset with me\";\n",
        "            - Assertive: \"I feel\"; \"I think\"; \"I am angry about…\"; \"I would like you to…\"; \"I don't understand\"\n",
        "            Your answer is only \"yes\" or \"no\".\n",
        "        \"\"\"\n",
        "\n",
        "prompt = PromptTemplate.from_template(template)\n",
        "\n",
        "predict(prompt)\n"
      ]
    },
    {
      "cell_type": "code",
      "execution_count": null,
      "metadata": {},
      "outputs": [],
      "source": []
    },
    {
      "cell_type": "code",
      "execution_count": null,
      "metadata": {},
      "outputs": [],
      "source": []
    },
    {
      "cell_type": "code",
      "execution_count": null,
      "metadata": {},
      "outputs": [],
      "source": []
    },
    {
      "cell_type": "markdown",
      "metadata": {},
      "source": [
        "# More examples"
      ]
    },
    {
      "cell_type": "code",
      "execution_count": 15,
      "metadata": {
        "colab": {
          "base_uri": "https://localhost:8080/"
        },
        "id": "Cwdu7oW4W6Tz",
        "outputId": "106e293e-124a-4d4e-e6e6-834a837eda79"
      },
      "outputs": [
        {
          "name": "stdout",
          "output_type": "stream",
          "text": [
            "Confusion Matrix:\n",
            "[[True Negative, False Positive], [False Negative, True Positive]]\n",
            "[31, 3]\n",
            "[1, 20]\n",
            "\n",
            "Precision: 0.87\n",
            "Recall: 0.95\n",
            "F-score: 0.91\n",
            "Accuracy: 0.93\n",
            "\n",
            "Summary of Misclassified Messages:\n",
            "Message: If you are Razr owner...you must have this!\n",
            "Truth: 0, Predicted: 1, Response: \n",
            "Yes\n",
            "\n",
            "Message: I went on Motorolas website and followed all directions but could not get it to pair again.\n",
            "Truth: 0, Predicted: 1, Response: \n",
            "Yes\n",
            "\n",
            "Message: I have yet to run this new battery below two bars and thats three days without charging. I bought it for my mother and she had a problem with the battery.\n",
            "Truth: 1, Predicted: 0, Response: \n",
            "No\n",
            "\n",
            "Message: Doesnt hold charge.\n",
            "Truth: 0, Predicted: 1, Response: \n",
            "yes\n",
            "\n"
          ]
        }
      ],
      "source": [
        "# \"I don’t believe it!\"; \"Is it possible?\"; \"I could really do without it.\"; \"It really gets on my nerves.\"\n",
        "template = \"\"\"\n",
        "            You are a sentiment bot. This is a classification task.\n",
        "            Given a sentence about customer feedback.\n",
        "            Your job is to determine if the sentence in the backticks below is about anger:\n",
        "            ```{sentence}```\n",
        "            This is difinition of \"anger\":\n",
        "            - Anger is an intense emotional state of displeasure with someone or something.\n",
        "            - Anger is an emotion characterized by antagonism toward someone or something you feel has deliberately done you wrong.\n",
        "            - Anger is one of the basic human emotions, as elemental as happiness, sadness, anxiety, or disgust.\n",
        "            To define a sentence that expresses \"anger,\" look for features such as:\n",
        "            - Emphatic Language: Use of strong, forceful words, often with CAPITALIZATION or exclamation marks to convey intensity. Example: \"I can't believe you did that!\"; \"I am FURIOUS!\"\n",
        "            - Negative Connotations: Words that imply frustration, betrayal, or disapproval. Example: \"This is completely unacceptable.\"\n",
        "            - Directive or Accusatory Tone: Commands, accusations, or strong advice aimed at someone, indicating displeasure. Example: \"You need to stop lying!\"\n",
        "            - Emotional Intensity: Expressions that reflect high emotional arousal, often indicating a loss of patience or tolerance. Example: \"I've had enough of this nonsense!\"\n",
        "            - Context of Disappointment or Betrayal: Indicating that expectations have been unmet, leading to frustration. Example: \"I trusted you, and this is how you repay me?\"; \"You assured me this would be taken care of, but once again, I find myself dealing with the same problem!\"\n",
        "            There are 3 types of Anger:\n",
        "            - Aggressive Anger: \"Shut Up!\"; \"Get Lost\"; \"You'll be sorry\"\n",
        "            - Passive: \"I\\'m sorry to have to tell you this…\"; \"Please don\\'t get angry or upset with me\";\n",
        "            - Assertive: \"I feel\"; \"I think\"; \"I am angry about…\"; \"I would like you to…\"; \"I don't understand\"\n",
        "            Other sample sentences to express anger: \"I don\\'t believe it!\"; \"Is it possible?\"; \"I could really do without it.\"; \"It really gets on my nerves.\"\n",
        "            Your answer is only \"yes\" or \"no\".\n",
        "        \"\"\"\n",
        "\n",
        "prompt = PromptTemplate.from_template(template)\n",
        "\n",
        "predict(prompt)"
      ]
    }
  ],
  "metadata": {
    "colab": {
      "provenance": []
    },
    "kernelspec": {
      "display_name": "Python 3",
      "name": "python3"
    },
    "language_info": {
      "codemirror_mode": {
        "name": "ipython",
        "version": 3
      },
      "file_extension": ".py",
      "mimetype": "text/x-python",
      "name": "python",
      "nbconvert_exporter": "python",
      "pygments_lexer": "ipython3",
      "version": "3.11.0"
    }
  },
  "nbformat": 4,
  "nbformat_minor": 0
}
